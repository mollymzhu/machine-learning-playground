{
 "cells": [
  {
   "cell_type": "markdown",
   "metadata": {},
   "source": [
    "# Character level language model - Try to make an Artist name"
   ]
  },
  {
   "cell_type": "code",
   "execution_count": 3,
   "metadata": {
    "ExecuteTime": {
     "end_time": "2018-06-20T18:11:52.489464Z",
     "start_time": "2018-06-20T18:11:52.484897Z"
    }
   },
   "outputs": [],
   "source": [
    "import numpy as np\n",
    "from RNN import *\n",
    "import random\n",
    "import pandas as pd\n",
    "import re\n",
    "import unidecode"
   ]
  },
  {
   "cell_type": "markdown",
   "metadata": {},
   "source": [
    "## 1 - Generate some Latin artist names using RNN\n",
    "\n",
    "### 1.1 - Dataset and Preprocessing\n",
    "\n",
    "Read the dataset of artist names, create a list of unique characters (such as a-z), and compute the dataset and vocabulary size. Let's try some latin artists names."
   ]
  },
  {
   "cell_type": "code",
   "execution_count": 64,
   "metadata": {
    "ExecuteTime": {
     "end_time": "2018-06-20T18:11:48.707757Z",
     "start_time": "2018-06-20T18:11:22.074083Z"
    }
   },
   "outputs": [],
   "source": [
    "q_artist = \"\"\"\n",
    "    SELECT artist_name\n",
    "    FROM `gro-analytics.discovery_tool.discovery_extract_anon_201806*` \n",
    "    WHERE conn_country IN ('MX','SP')\n",
    "    AND LOWER(metagenre) = 'latin'\n",
    "    AND _table_suffix BETWEEN '01' AND '19'\n",
    "    AND length(artist_name ) >= 5\n",
    "    --AND length(artist_name ) <= 35    \n",
    "    AND REGEXP_CONTAINS(artist_name, r\"[0-9]\") IS NOT TRUE\n",
    "    AND REGEXP_CONTAINS(artist_name, r\"[&#@!]\") IS NOT TRUE\n",
    "    GROUP BY 1\n",
    "  \"\"\"\n",
    "df_artist = pd.io.gbq.read_gbq(q_artist, dialect='standard', project_id='gro-analytics')"
   ]
  },
  {
   "cell_type": "code",
   "execution_count": 65,
   "metadata": {
    "ExecuteTime": {
     "end_time": "2018-06-20T18:27:38.192052Z",
     "start_time": "2018-06-20T18:27:38.187587Z"
    }
   },
   "outputs": [],
   "source": [
    "artist_name = list(df_artist.artist_name.values)\n",
    "artist_name = [name.lower() for name in artist_name]\n",
    "artist_name = [unidecode.unidecode(name) for name in artist_name]\n",
    "artist_name = [re.sub(r'[^a-z ]',r'',name) for name in artist_name]"
   ]
  },
  {
   "cell_type": "code",
   "execution_count": 66,
   "metadata": {
    "ExecuteTime": {
     "end_time": "2018-06-20T18:11:55.086277Z",
     "start_time": "2018-06-20T18:11:55.081799Z"
    }
   },
   "outputs": [
    {
     "data": {
      "text/plain": [
       "['leo dan',\n",
       " 'nigga',\n",
       " 'via zaragoza',\n",
       " 'los nocheros',\n",
       " 'maritza rodriguez',\n",
       " 'alci acostadaniel santosorlando contreraskike vega',\n",
       " 'camilo septimo',\n",
       " 'grupo rehen',\n",
       " 'the sacados',\n",
       " 'christian nodal']"
      ]
     },
     "execution_count": 66,
     "metadata": {},
     "output_type": "execute_result"
    }
   ],
   "source": [
    "artist_name = [name for name in artist_name if len(name)>=5 and name[0]!=' ']\n",
    "artist_name[:10]"
   ]
  },
  {
   "cell_type": "code",
   "execution_count": 67,
   "metadata": {
    "ExecuteTime": {
     "end_time": "2018-06-20T18:11:55.634096Z",
     "start_time": "2018-06-20T18:11:55.625044Z"
    }
   },
   "outputs": [
    {
     "data": {
      "text/plain": [
       "'leo dan\\nnigga\\nvia zaragoza\\nlos nocheros\\nmaritza ro'"
      ]
     },
     "execution_count": 67,
     "metadata": {},
     "output_type": "execute_result"
    }
   ],
   "source": [
    "artist = '\\n'.join(artist_name)\n",
    "artist[:50]"
   ]
  },
  {
   "cell_type": "code",
   "execution_count": 68,
   "metadata": {
    "ExecuteTime": {
     "end_time": "2018-06-20T18:11:58.989033Z",
     "start_time": "2018-06-20T18:11:58.982332Z"
    }
   },
   "outputs": [
    {
     "name": "stdout",
     "output_type": "stream",
     "text": [
      "There are 81251 total characters and 28 unique characters in your data.\n"
     ]
    }
   ],
   "source": [
    "chars = list(set(artist))\n",
    "data_size, vocab_size = len(artist), len(chars)\n",
    "print('There are %d total characters and %d unique characters in your data.' % (data_size, vocab_size))"
   ]
  },
  {
   "cell_type": "markdown",
   "metadata": {},
   "source": [
    " `char_to_ix` and `ix_to_char` are the python dictionaries. "
   ]
  },
  {
   "cell_type": "code",
   "execution_count": 69,
   "metadata": {
    "ExecuteTime": {
     "end_time": "2018-06-20T18:12:00.277318Z",
     "start_time": "2018-06-20T18:12:00.268698Z"
    }
   },
   "outputs": [
    {
     "name": "stdout",
     "output_type": "stream",
     "text": [
      "{0: '\\n', 1: ' ', 2: 'a', 3: 'b', 4: 'c', 5: 'd', 6: 'e', 7: 'f', 8: 'g', 9: 'h', 10: 'i', 11: 'j', 12: 'k', 13: 'l', 14: 'm', 15: 'n', 16: 'o', 17: 'p', 18: 'q', 19: 'r', 20: 's', 21: 't', 22: 'u', 23: 'v', 24: 'w', 25: 'x', 26: 'y', 27: 'z'}\n"
     ]
    }
   ],
   "source": [
    "char_to_ix = { ch:i for i,ch in enumerate(sorted(chars)) }\n",
    "ix_to_char = { i:ch for i,ch in enumerate(sorted(chars)) }\n",
    "print(ix_to_char)"
   ]
  },
  {
   "cell_type": "markdown",
   "metadata": {},
   "source": [
    "### 1.2 - Overview of the model\n",
    "\n",
    "\n",
    "- Initialize parameters \n",
    "- Run the optimization loop\n",
    "    - Forward propagation to compute the loss function\n",
    "    - Backward propagation to compute the gradients with respect to the loss function\n",
    "    - Clip the gradients to avoid exploding gradients\n",
    "    - Using the gradients, update your parameter with the gradient descent update rule.\n",
    "- Return the learned parameters \n",
    "    "
   ]
  },
  {
   "cell_type": "markdown",
   "metadata": {},
   "source": [
    "## 2 - Building blocks of the model\n",
    "\n",
    "- Gradient clipping: to avoid exploding gradients\n",
    "- Sampling: a technique used to generate characters\n"
   ]
  },
  {
   "cell_type": "markdown",
   "metadata": {},
   "source": [
    "### 2.1 - Clipping the gradients in the optimization loop\n",
    "\n",
    "Perform gradient clipping when needed to make sure that gradients are not \"exploding,\" meaning taking on overly large values. \n"
   ]
  },
  {
   "cell_type": "code",
   "execution_count": 70,
   "metadata": {
    "ExecuteTime": {
     "end_time": "2018-06-20T18:12:01.394177Z",
     "start_time": "2018-06-20T18:12:01.384031Z"
    }
   },
   "outputs": [],
   "source": [
    "def clip(gradients, maxValue):\n",
    "    '''\n",
    "    Clips the gradients' values between minimum and maximum.\n",
    "    \n",
    "    Arguments:\n",
    "    gradients -- a dictionary containing the gradients \"dWaa\", \"dWax\", \"dWya\", \"db\", \"dby\"\n",
    "    maxValue -- everything above this number is set to this number, and everything less than -maxValue is set to -maxValue\n",
    "    \n",
    "    Returns: \n",
    "    gradients -- a dictionary with the clipped gradients.\n",
    "    '''\n",
    "    \n",
    "    dWaa, dWax, dWya, db, dby = gradients['dWaa'], gradients['dWax'], gradients['dWya'], gradients['db'], gradients['dby']\n",
    "   \n",
    "    # clip to mitigate exploding gradients, loop over [dWax, dWaa, dWya, db, dby]. (≈2 lines)\n",
    "    for gradient in [dWax, dWaa, dWya, db, dby]:\n",
    "        np.clip(gradient, -maxValue, maxValue, out=gradient)\n",
    "    gradients = {\"dWaa\": dWaa, \"dWax\": dWax, \"dWya\": dWya, \"db\": db, \"dby\": dby}\n",
    "    \n",
    "    return gradients"
   ]
  },
  {
   "cell_type": "code",
   "execution_count": 71,
   "metadata": {
    "ExecuteTime": {
     "end_time": "2018-06-20T18:12:01.595248Z",
     "start_time": "2018-06-20T18:12:01.583617Z"
    },
    "scrolled": true
   },
   "outputs": [
    {
     "name": "stdout",
     "output_type": "stream",
     "text": [
      "gradients[\"dWaa\"][1][2] = 10.0\n",
      "gradients[\"dWax\"][3][1] = -10.0\n",
      "gradients[\"dWya\"][1][2] = 0.2971381536101662\n",
      "gradients[\"db\"][4] = [10.]\n",
      "gradients[\"dby\"][1] = [8.45833407]\n"
     ]
    }
   ],
   "source": [
    "np.random.seed(3)\n",
    "dWax = np.random.randn(5,3)*10\n",
    "dWaa = np.random.randn(5,5)*10\n",
    "dWya = np.random.randn(2,5)*10\n",
    "db = np.random.randn(5,1)*10\n",
    "dby = np.random.randn(2,1)*10\n",
    "gradients = {\"dWax\": dWax, \"dWaa\": dWaa, \"dWya\": dWya, \"db\": db, \"dby\": dby}\n",
    "gradients = clip(gradients, 10)\n",
    "print(\"gradients[\\\"dWaa\\\"][1][2] =\", gradients[\"dWaa\"][1][2])\n",
    "print(\"gradients[\\\"dWax\\\"][3][1] =\", gradients[\"dWax\"][3][1])\n",
    "print(\"gradients[\\\"dWya\\\"][1][2] =\", gradients[\"dWya\"][1][2])\n",
    "print(\"gradients[\\\"db\\\"][4] =\", gradients[\"db\"][4])\n",
    "print(\"gradients[\\\"dby\\\"][1] =\", gradients[\"dby\"][1])"
   ]
  },
  {
   "cell_type": "markdown",
   "metadata": {},
   "source": [
    "### 2.2 - Sampling\n",
    "\n",
    "You would like to generate new text (characters). "
   ]
  },
  {
   "cell_type": "code",
   "execution_count": 72,
   "metadata": {
    "ExecuteTime": {
     "end_time": "2018-06-20T18:25:09.594158Z",
     "start_time": "2018-06-20T18:25:09.585132Z"
    }
   },
   "outputs": [],
   "source": [
    "def sample(parameters, char_to_ix, seed):\n",
    "    \"\"\"\n",
    "    Sample a sequence of characters according to a sequence of probability distributions output of the RNN\n",
    "\n",
    "    Arguments:\n",
    "    parameters -- python dictionary containing the parameters Waa, Wax, Wya, by, and b. \n",
    "    char_to_ix -- python dictionary mapping each character to an index.\n",
    "    seed -- used for grading purposes. Do not worry about it.\n",
    "\n",
    "    Returns:\n",
    "    indices -- a list of length n containing the indices of the sampled characters.\n",
    "    \"\"\"\n",
    "    \n",
    "    # Retrieve parameters and relevant shapes from \"parameters\" dictionary\n",
    "    Waa, Wax, Wya, by, b = parameters['Waa'], parameters['Wax'], parameters['Wya'], parameters['by'], parameters['b']\n",
    "    vocab_size = by.shape[0]\n",
    "    n_a = Waa.shape[1]\n",
    "    \n",
    "    # Step 1: Create the one-hot vector x for the first character (initializing the sequence generation). (≈1 line)\n",
    "    x = np.zeros((vocab_size,1))\n",
    "    # Step 1': Initialize a_prev as zeros (≈1 line)\n",
    "    a_prev = np.zeros((n_a,1))\n",
    "    \n",
    "    # Create an empty list of indices, this is the list which will contain the list of indices of the characters to generate (≈1 line)\n",
    "    indices = []\n",
    "    \n",
    "    # Idx is a flag to detect a newline character, we initialize it to -1\n",
    "    idx = -1 \n",
    "    \n",
    "    # Loop over time-steps t. At each time-step, sample a character from a probability distribution and append \n",
    "    # its index to \"indices\". We'll stop if we reach 50 characters (which should be very unlikely with a well \n",
    "    # trained model), which helps debugging and prevents entering an infinite loop. \n",
    "    counter = 0\n",
    "    newline_character = char_to_ix['\\n']\n",
    "    \n",
    "    while (idx != newline_character and counter != 30):\n",
    "        \n",
    "        # Step 2: Forward propagate x using the equations (1), (2) and (3)\n",
    "        a = np.tanh(np.dot(Wax, x) + np.dot(Waa, a_prev) + b)  # a⟨t+1⟩=tanh(Wax*x⟨t⟩+Waa*a⟨t⟩+b)\n",
    "        z = np.dot(Wya, a) + by  # z⟨t+1⟩=Wya*a⟨t+1⟩+by\n",
    "        y = softmax(z)\n",
    "        \n",
    "        np.random.seed(counter+seed) \n",
    "        \n",
    "        # Step 3: Sample the index of a character within the vocabulary from the probability distribution y\n",
    "        idx = np.random.choice(range(vocab_size), p = y.ravel())\n",
    "\n",
    "        # Append the index to \"indices\"\n",
    "        indices.append(idx)\n",
    "        \n",
    "        # Step 4: Overwrite the input character as the one corresponding to the sampled index.\n",
    "        x = np.zeros((vocab_size,1))\n",
    "        x[idx] = 1\n",
    "        \n",
    "        # Update \"a_prev\" to be \"a\"\n",
    "        a_prev = a\n",
    "        \n",
    "        seed += 1\n",
    "        counter +=1\n",
    "\n",
    "    if (counter == 30):\n",
    "        indices.append(char_to_ix['\\n'])\n",
    "    \n",
    "    return indices"
   ]
  },
  {
   "cell_type": "markdown",
   "metadata": {},
   "source": [
    "## 3 - Building the language model \n",
    "\n",
    "It is time to build the character-level language model for text generation. \n",
    "\n",
    "\n",
    "### 3.1 - Gradient descent \n",
    "\n",
    "Implementation teps:\n",
    "\n",
    "- Forward propagate through the RNN to compute the loss\n",
    "- Backward propagate through time to compute the gradients of the loss with respect to the parameters\n",
    "- Clip the gradients if necessary \n",
    "- Update your parameters using gradient descent  \n",
    "\n",
    "The following functions are implemented in RNN.py\n",
    "\n",
    "```python\n",
    "def rnn_forward(X, Y, a_prev, parameters):\n",
    "    \"\"\" Performs the forward propagation through the RNN and computes the cross-entropy loss.\n",
    "    It returns the loss' value as well as a \"cache\" storing values to be used in the backpropagation.\"\"\"\n",
    "    ....\n",
    "    return loss, cache\n",
    "    \n",
    "def rnn_backward(X, Y, parameters, cache):\n",
    "    \"\"\" Performs the backward propagation through time to compute the gradients of the loss with respect\n",
    "    to the parameters. It returns also all the hidden states.\"\"\"\n",
    "    ...\n",
    "    return gradients, a\n",
    "\n",
    "def update_parameters(parameters, gradients, learning_rate):\n",
    "    \"\"\" Updates parameters using the Gradient Descent Update Rule.\"\"\"\n",
    "    ...\n",
    "    return parameters\n",
    "```"
   ]
  },
  {
   "cell_type": "code",
   "execution_count": 77,
   "metadata": {
    "ExecuteTime": {
     "end_time": "2018-06-20T18:25:12.032291Z",
     "start_time": "2018-06-20T18:25:12.024938Z"
    }
   },
   "outputs": [],
   "source": [
    "def optimize(X, Y, a_prev, parameters, learning_rate = 0.01, vocab_size = vocab_size):\n",
    "    \"\"\"\n",
    "    Execute one step of the optimization to train the model.\n",
    "    \n",
    "    Arguments:\n",
    "    X -- list of integers, where each integer is a number that maps to a character in the vocabulary.\n",
    "    Y -- list of integers, exactly the same as X but shifted one index to the left.\n",
    "    a_prev -- previous hidden state.\n",
    "    parameters -- python dictionary containing:\n",
    "                        Wax -- Weight matrix multiplying the input, numpy array of shape (n_a, n_x)\n",
    "                        Waa -- Weight matrix multiplying the hidden state, numpy array of shape (n_a, n_a)\n",
    "                        Wya -- Weight matrix relating the hidden-state to the output, numpy array of shape (n_y, n_a)\n",
    "                        b --  Bias, numpy array of shape (n_a, 1)\n",
    "                        by -- Bias relating the hidden-state to the output, numpy array of shape (n_y, 1)\n",
    "    learning_rate -- learning rate for the model.\n",
    "    \n",
    "    Returns:\n",
    "    loss -- value of the loss function (cross-entropy)\n",
    "    gradients -- python dictionary containing:\n",
    "                        dWax -- Gradients of input-to-hidden weights, of shape (n_a, n_x)\n",
    "                        dWaa -- Gradients of hidden-to-hidden weights, of shape (n_a, n_a)\n",
    "                        dWya -- Gradients of hidden-to-output weights, of shape (n_y, n_a)\n",
    "                        db -- Gradients of bias vector, of shape (n_a, 1)\n",
    "                        dby -- Gradients of output bias vector, of shape (n_y, 1)\n",
    "    a[len(X)-1] -- the last hidden state, of shape (n_a, 1)\n",
    "    \"\"\"\n",
    "    \n",
    "    # Forward propagate through time\n",
    "    loss, cache = rnn_forward(X, Y, a_prev, parameters,vocab_size)\n",
    "    \n",
    "    # Backpropagate through time \n",
    "    gradients, a = rnn_backward(X, Y, parameters, cache)\n",
    "    \n",
    "    # Clip radients between -5 (min) and 5 (max)\n",
    "    gradients = clip(gradients, 5)\n",
    "    \n",
    "    # Update parameters \n",
    "    parameters = update_parameters(parameters, gradients, learning_rate)\n",
    "\n",
    "    \n",
    "    return loss, gradients, a[len(X)-1]\n",
    "\n"
   ]
  },
  {
   "cell_type": "code",
   "execution_count": 74,
   "metadata": {
    "ExecuteTime": {
     "end_time": "2018-06-20T18:25:12.621374Z",
     "start_time": "2018-06-20T18:25:12.610272Z"
    }
   },
   "outputs": [
    {
     "name": "stdout",
     "output_type": "stream",
     "text": [
      "Loss = 73.82355093017527\n",
      "gradients[\"dWaa\"][1][2] = -0.6881049834946623\n",
      "np.argmax(gradients[\"dWax\"]) = 152\n",
      "gradients[\"dWya\"][1][2] = -0.0766191173363582\n",
      "gradients[\"db\"][4] = [-0.07707836]\n",
      "gradients[\"dby\"][1] = [0.08717006]\n",
      "a_last[4] = [0.99989098]\n"
     ]
    }
   ],
   "source": [
    "# test\n",
    "np.random.seed(1)\n",
    "n_a, vocab_size = 30, len(chars)\n",
    "#vocab_size, n_a = 53, 100\n",
    "a_prev = np.random.randn(n_a, 1)\n",
    "Wax, Waa, Wya = np.random.randn(n_a, vocab_size), np.random.randn(n_a, n_a), np.random.randn(vocab_size, n_a)\n",
    "b, by = np.random.randn(n_a, 1), np.random.randn(vocab_size, 1)\n",
    "parameters = {\"Wax\": Wax, \"Waa\": Waa, \"Wya\": Wya, \"b\": b, \"by\": by}\n",
    "X = [12,3,5,11,22,3]\n",
    "Y = [4,14,11,22,25,26]\n",
    "\n",
    "loss, gradients, a_last = optimize(X, Y, a_prev, parameters, learning_rate = 0.01,vocab_size = vocab_size)\n",
    "print(\"Loss =\", loss)\n",
    "print(\"gradients[\\\"dWaa\\\"][1][2] =\", gradients[\"dWaa\"][1][2])\n",
    "print(\"np.argmax(gradients[\\\"dWax\\\"]) =\", np.argmax(gradients[\"dWax\"]))\n",
    "print(\"gradients[\\\"dWya\\\"][1][2] =\", gradients[\"dWya\"][1][2])\n",
    "print(\"gradients[\\\"db\\\"][4] =\", gradients[\"db\"][4])\n",
    "print(\"gradients[\\\"dby\\\"][1] =\", gradients[\"dby\"][1])\n",
    "print(\"a_last[4] =\", a_last[4])"
   ]
  },
  {
   "cell_type": "markdown",
   "metadata": {},
   "source": [
    "### 3.2 - Training the model "
   ]
  },
  {
   "cell_type": "markdown",
   "metadata": {},
   "source": [
    "Given the dataset of artist names, we use each line of the dataset (one name) as one training example. Every 100 steps of stochastic gradient descent, we sampe 5 randomly chosen names to see how the algorithm is doing. \n"
   ]
  },
  {
   "cell_type": "code",
   "execution_count": 75,
   "metadata": {
    "ExecuteTime": {
     "end_time": "2018-06-20T18:26:34.876494Z",
     "start_time": "2018-06-20T18:26:34.866315Z"
    }
   },
   "outputs": [],
   "source": [
    "def model(data, ix_to_char, char_to_ix, num_iterations = 60000, n_a = 15, num_names = 5, vocab_size = vocab_size):\n",
    "    \"\"\"\n",
    "    Trains the model and generates dinosaur names. \n",
    "    \n",
    "    Arguments:\n",
    "    data -- text corpus\n",
    "    ix_to_char -- dictionary that maps the index to a character\n",
    "    char_to_ix -- dictionary that maps a character to an index\n",
    "    num_iterations -- number of iterations to train the model for\n",
    "    n_a -- number of units of the RNN cell\n",
    "    num_names -- number of dinosaur names you want to sample at each iteration. \n",
    "    vocab_size -- number of unique characters found in the text, size of the vocabulary\n",
    "    \n",
    "    Returns:\n",
    "    parameters -- learned parameters\n",
    "    \"\"\"\n",
    "    \n",
    "    # Retrieve n_x and n_y from vocab_size\n",
    "    n_x, n_y = vocab_size, vocab_size\n",
    "    \n",
    "    # Initialize parameters\n",
    "    parameters = initialize_parameters(n_a, n_x, n_y)\n",
    "    \n",
    "    # Initialize loss (this is required because we want to smooth our loss, don't worry about it)\n",
    "    loss = get_initial_loss(vocab_size, num_names)\n",
    "    \n",
    "    # Build list of all names (training examples).\n",
    "    examples = artist_name\n",
    "    \n",
    "    # Shuffle list of all dinosaur names\n",
    "    np.random.seed(0)\n",
    "    np.random.shuffle(examples)\n",
    "    \n",
    "    # Initialize the hidden state of your LSTM\n",
    "    a_prev = np.zeros((n_a, 1))\n",
    "    \n",
    "    # Optimization loop\n",
    "    for j in range(num_iterations):\n",
    "        \n",
    "        index = j % len(examples)\n",
    "        X = [char_to_ix[ch] for ch in examples[index]] \n",
    "        Y = X[1:] + [char_to_ix[\"\\n\"]]\n",
    "        \n",
    "        # Perform one optimization step: Forward-prop -> Backward-prop -> Clip -> Update parameters\n",
    "        # Choose a learning rate of ?\n",
    "        curr_loss, gradients, a_prev = optimize(X, Y, a_prev, parameters, learning_rate = 0.05)\n",
    "        \n",
    "        # Use a latency trick to keep the loss smooth. It happens here to accelerate the training.\n",
    "        loss = smooth(loss, curr_loss)\n",
    "\n",
    "        # Every 2000 Iteration, generate \"n\" characters \n",
    "        seed = 0\n",
    "        if j % 2000 == 0:\n",
    "            \n",
    "            print('Iteration: %d' % (j) + '\\n')\n",
    "            \n",
    "            # The number of dinosaur names to print\n",
    "            # seed = 0\n",
    "            for name in range(num_names):\n",
    "                #print(\"name\",name)\n",
    "                \n",
    "                # Sample indices and print them\n",
    "                sampled_indices = sample(parameters, char_to_ix, seed)\n",
    "                #while sampled_indices[0] == 0:\n",
    "                #    seed += 1\n",
    "                #    sampled_indices = sample(parameters, char_to_ix, seed)\n",
    "                #def print_sample(sample_ix, ix_to_char):\n",
    "                txt = ''.join(ix_to_char[ix] for ix in sampled_indices)\n",
    "                #print(\"sample:\",sampled_indices,\"\\n\")\n",
    "                if len(txt)>4:\n",
    "                    print(txt)\n",
    "                #print(\"sample:\",sampled_indices,\"\\n\")\n",
    "                #print_sample(sampled_indices, ix_to_char)\n",
    "                \n",
    "                seed += 1  # To get the same result for grading purposed, increment the seed by one. \n",
    "      \n",
    "            print('\\n')\n",
    "        \n",
    "    return parameters"
   ]
  },
  {
   "cell_type": "markdown",
   "metadata": {},
   "source": [
    "Run the following cell, the model outputs random-looking characters at the first iteration. After a few thousand iterations, our model should learn to generate reasonable-looking names. "
   ]
  },
  {
   "cell_type": "code",
   "execution_count": 76,
   "metadata": {
    "ExecuteTime": {
     "end_time": "2018-06-20T18:27:08.764437Z",
     "start_time": "2018-06-20T18:26:35.883022Z"
    },
    "scrolled": true
   },
   "outputs": [
    {
     "name": "stdout",
     "output_type": "stream",
     "text": [
      "Iteration: 0\n",
      "\n",
      "njzwwtcmeqodygspv sijivt\n",
      "\n",
      "jne \n",
      "\n",
      "jzwwtcmeqodygspv sijivt\n",
      "\n",
      "zwwtcmeqodygspv sijivt\n",
      "\n",
      "\n",
      "\n",
      "Iteration: 2000\n",
      "\n",
      "ilutro maridues s\n",
      "\n",
      "en b dos cantitedivel\n",
      "\n",
      "ezos celio varlo\n",
      "\n",
      "usro maricues s\n",
      "\n",
      "\n",
      "\n",
      "Iteration: 4000\n",
      "\n",
      "ertoso marrez\n",
      "\n",
      "exsos larrdreses\n",
      "\n",
      "usos karrez\n",
      "\n",
      "\n",
      "\n",
      "Iteration: 6000\n",
      "\n",
      "iltolo ladido res\n",
      "\n",
      "ezpoe lalmatenio\n",
      "\n",
      "ie a roca\n",
      "\n",
      "uspo lalo y res\n",
      "\n",
      "\n",
      "\n",
      "Iteration: 8000\n",
      "\n",
      "ikyos charmbulos arerevo\n",
      "\n",
      "eztor jariates parenasi hily d\n",
      "\n",
      "uto charo varos\n",
      "\n",
      "\n",
      "\n",
      "Iteration: 10000\n",
      "\n",
      "litosa\n",
      "\n",
      "in a dus aboretedoto ay gora\n",
      "\n",
      "ivosa\n",
      "\n",
      "utro\n",
      "\n",
      "\n",
      "\n",
      "Iteration: 12000\n",
      "\n",
      "elupon lariatamez\n",
      "\n",
      "en a\n",
      "\n",
      "ezmos\n",
      "\n",
      "ec actra\n",
      "\n",
      "uvora coray pos\n",
      "\n",
      "\n",
      "\n",
      "Iteration: 14000\n",
      "\n",
      "entosico piez\n",
      "\n",
      "ezkon\n",
      "\n",
      "el aguon\n",
      "\n",
      "uto cominas\n",
      "\n",
      "\n",
      "\n",
      "Iteration: 16000\n",
      "\n",
      "icurro\n",
      "\n",
      "ie balos acho senez dez\n",
      "\n",
      "ivoscala mexdo sarichoi\n",
      "\n",
      "utro\n",
      "\n",
      "\n",
      "\n",
      "Iteration: 18000\n",
      "\n",
      "iluton mano\n",
      "\n",
      "ere agunda\n",
      "\n",
      "izkor\n",
      "\n",
      "utor\n",
      "\n",
      "\n",
      "\n",
      "Iteration: 20000\n",
      "\n",
      "ievoro\n",
      "\n",
      "exton jarnaterno\n",
      "\n",
      "ic adro\n",
      "\n",
      "usto\n",
      "\n",
      "\n",
      "\n",
      "Iteration: 22000\n",
      "\n",
      "iguosa lamicthupo\n",
      "\n",
      "eqe acos canteta ito cu de cas\n",
      "\n",
      "eyos cherlas los\n",
      "\n",
      "urrmanana vermo\n",
      "\n",
      "\n",
      "\n",
      "Iteration: 24000\n",
      "\n",
      "ikusto\n",
      "\n",
      "ezprialaliaueros\n",
      "\n",
      "usto\n",
      "\n",
      "\n",
      "\n",
      "Iteration: 26000\n",
      "\n",
      "antorn mandaz\n",
      "\n",
      "atosa\n",
      "\n",
      "uyseda\n",
      "\n",
      "\n",
      "\n",
      "Iteration: 28000\n",
      "\n",
      "anuronajana varmo\n",
      "\n",
      "aviri mariavanes\n",
      "\n",
      "usora erqay qul parbos\n",
      "\n",
      "\n",
      "\n",
      "Iteration: 30000\n",
      "\n",
      "entono\n",
      "\n",
      "ezisibelos wgrit\n",
      "\n",
      "uson lermateror regorr lomy fa\n",
      "\n",
      "\n",
      "\n",
      "Iteration: 32000\n",
      "\n",
      "entros laqlavaris\n",
      "\n",
      "erda\n",
      "\n",
      "eylos herlavaris\n",
      "\n",
      "e bahis cansareditle\n",
      "\n",
      "uros lero varno\n",
      "\n",
      "\n",
      "\n",
      "Iteration: 34000\n",
      "\n",
      "eltroa\n",
      "\n",
      "arca\n",
      "\n",
      "atro ciarlateromaribano\n",
      "\n",
      "e baero\n",
      "\n",
      "ussi lano\n",
      "\n",
      "\n",
      "\n",
      "Iteration: 36000\n",
      "\n",
      "iguis clcimaues\n",
      "\n",
      "ezarmarerebterio\n",
      "\n",
      "us raldin\n",
      "\n",
      "\n",
      "\n",
      "Iteration: 38000\n",
      "\n",
      "ilto ralchicrinos\n",
      "\n",
      "ito peres buas sas del apo y f\n",
      "\n",
      "usipendo dudolo nembri\n",
      "\n",
      "\n",
      "\n",
      "Iteration: 40000\n",
      "\n",
      "elusina corez\n",
      "\n",
      "enca\n",
      "\n",
      "ezosia copaxamntala din\n",
      "\n",
      "usto\n",
      "\n",
      "\n",
      "\n",
      "Iteration: 42000\n",
      "\n",
      "ietropan meluerlo\n",
      "\n",
      "ezito gion\n",
      "\n",
      "utriaalimay pruarielir friza a\n",
      "\n",
      "\n",
      "\n",
      "Iteration: 44000\n",
      "\n",
      "eevisia corez pir pelbiq jony \n",
      "\n",
      "eztruan orguesru\n",
      "\n",
      "e badjoe betes chrha\n",
      "\n",
      "utrman orguesru\n",
      "\n",
      "\n",
      "\n",
      "Iteration: 46000\n",
      "\n",
      "iitoniacanedueros\n",
      "\n",
      "iviro\n",
      "\n",
      "sose parqoveros\n",
      "\n",
      "\n",
      "\n",
      "Iteration: 48000\n",
      "\n",
      "amtronales drey tanda su\n",
      "\n",
      "aynsia de duesco\n",
      "\n",
      "ba abor cantana lus cu elca vi\n",
      "\n",
      "uvio mangauenos relise\n",
      "\n",
      "\n",
      "\n",
      "Iteration: 50000\n",
      "\n",
      "ikuron lanhaverio\n",
      "\n",
      "aviro\n",
      "\n",
      "ustiachimataniq rigapl\n",
      "\n",
      "\n",
      "\n",
      "Iteration: 52000\n",
      "\n",
      "amustlalano\n",
      "\n",
      "anca\n",
      "\n",
      "austialano\n",
      "\n",
      "uvis lanodtanos\n",
      "\n",
      "\n",
      "\n",
      "Iteration: 54000\n",
      "\n",
      "envros\n",
      "\n",
      "ezron\n",
      "\n",
      "usto\n",
      "\n",
      "\n",
      "\n",
      "Iteration: 56000\n",
      "\n",
      "ektosa geriavarlo\n",
      "\n",
      "el bafso carsas\n",
      "\n",
      "extos\n",
      "\n",
      "e baella\n",
      "\n",
      "usso garlavando\n",
      "\n",
      "\n",
      "\n",
      "Iteration: 58000\n",
      "\n",
      "eltros\n",
      "\n",
      "er balos bantez\n",
      "\n",
      "eztor nangaufono\n",
      "\n",
      "e bakno bantez\n",
      "\n",
      "uste olledtanex\n",
      "\n",
      "\n",
      "\n"
     ]
    }
   ],
   "source": [
    "parameters = model(artist, ix_to_char, char_to_ix)"
   ]
  },
  {
   "cell_type": "markdown",
   "metadata": {
    "ExecuteTime": {
     "end_time": "2018-06-20T18:16:11.166808Z",
     "start_time": "2018-06-20T18:16:11.161347Z"
    }
   },
   "source": [
    "### 3.3 Results\n",
    "\n",
    "Final names after iteration: 59000, Loss: 47.687334\n",
    "\n",
    "ejusto\n",
    "\n",
    "ezhin de las nor pendio\n",
    "\n",
    "ec almo cantes diticay\n",
    "\n",
    "toro\n"
   ]
  },
  {
   "cell_type": "code",
   "execution_count": null,
   "metadata": {
    "collapsed": true
   },
   "outputs": [],
   "source": []
  }
 ],
 "metadata": {
  "coursera": {
   "course_slug": "nlp-sequence-models",
   "graded_item_id": "1dYg0",
   "launcher_item_id": "MLhxP"
  },
  "kernelspec": {
   "display_name": "Python 3",
   "language": "python",
   "name": "python3"
  },
  "language_info": {
   "codemirror_mode": {
    "name": "ipython",
    "version": 3
   },
   "file_extension": ".py",
   "mimetype": "text/x-python",
   "name": "python",
   "nbconvert_exporter": "python",
   "pygments_lexer": "ipython3",
   "version": "3.6.3"
  },
  "toc": {
   "base_numbering": 1,
   "nav_menu": {},
   "number_sections": true,
   "sideBar": true,
   "skip_h1_title": false,
   "title_cell": "Table of Contents",
   "title_sidebar": "Contents",
   "toc_cell": true,
   "toc_position": {},
   "toc_section_display": true,
   "toc_window_display": false
  }
 },
 "nbformat": 4,
 "nbformat_minor": 2
}
